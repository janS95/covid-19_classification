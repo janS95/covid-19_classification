{
 "cells": [
  {
   "cell_type": "code",
   "execution_count": 9,
   "metadata": {},
   "outputs": [],
   "source": [
    "import pandas as pd\n",
    "from tensorflow.keras import layers\n",
    "from tensorflow.keras.models import Sequential\n",
    "from tensorflow.keras.layers import Dense, Conv2D, MaxPool2D, Flatten\n",
    "from tensorflow.keras.preprocessing.image import ImageDataGenerator\n",
    "from tensorflow.keras.optimizers import Adam"
   ]
  },
  {
   "cell_type": "code",
   "execution_count": 10,
   "metadata": {},
   "outputs": [],
   "source": [
    "TRAINDIR = 'data\\\\Covid19-dataset\\\\train'\n",
    "TESTDIR = 'data\\\\Covid19-dataset\\\\test'"
   ]
  },
  {
   "cell_type": "code",
   "execution_count": 11,
   "metadata": {},
   "outputs": [],
   "source": [
    "train_data = ImageDataGenerator(rescale=1/255.0, validation_split=0.2)\n",
    "test_data = ImageDataGenerator(rescale=1/255.0)"
   ]
  },
  {
   "cell_type": "code",
   "execution_count": 12,
   "metadata": {},
   "outputs": [
    {
     "name": "stdout",
     "output_type": "stream",
     "text": [
      "Found 251 images belonging to 3 classes.\n",
      "Found 66 images belonging to 3 classes.\n"
     ]
    }
   ],
   "source": [
    "train_set = train_data.flow_from_directory(\n",
    "    TRAINDIR,\n",
    "    batch_size=32,\n",
    "    target_size=(224,224)\n",
    ")\n",
    "\n",
    "test_set = test_data.flow_from_directory(\n",
    "    TESTDIR,\n",
    "    batch_size=32,\n",
    "    target_size=(224,224)\n",
    ")"
   ]
  },
  {
   "cell_type": "code",
   "execution_count": 13,
   "metadata": {},
   "outputs": [],
   "source": [
    "model = Sequential()\n",
    "model.add(Conv2D(64, 3, input_shape=(224,224,3)))\n",
    "model.add(Conv2D(64, 3, input_shape=(224,224,3)))\n",
    "model.add(MaxPool2D(pool_size=(2,2), strides=2))\n",
    "model.add(Flatten())\n",
    "model.add(Dense(64))\n",
    "model.add(Dense(32))\n",
    "model.add(Dense(3, activation='softmax'))"
   ]
  },
  {
   "cell_type": "code",
   "execution_count": 14,
   "metadata": {},
   "outputs": [],
   "source": [
    "model.compile(\n",
    "    optimizer=Adam(learning_rate=0.001),\n",
    "    metrics=['accuracy'],\n",
    "    loss='categorical_crossentropy'\n",
    ")"
   ]
  },
  {
   "cell_type": "code",
   "execution_count": 15,
   "metadata": {},
   "outputs": [
    {
     "name": "stdout",
     "output_type": "stream",
     "text": [
      "Epoch 1/15\n",
      "8/8 [==============================] - 41s 5s/step - loss: 275.7332 - accuracy: 0.3386 - val_loss: 119.3788 - val_accuracy: 0.3939\n",
      "Epoch 2/15\n",
      "8/8 [==============================] - 38s 5s/step - loss: 79.3858 - accuracy: 0.4661 - val_loss: 102.2552 - val_accuracy: 0.3182\n",
      "Epoch 3/15\n",
      "8/8 [==============================] - 39s 5s/step - loss: 32.9213 - accuracy: 0.6215 - val_loss: 36.2716 - val_accuracy: 0.6667\n",
      "Epoch 4/15\n",
      "8/8 [==============================] - 39s 5s/step - loss: 15.0827 - accuracy: 0.8367 - val_loss: 42.3933 - val_accuracy: 0.6061\n",
      "Epoch 5/15\n",
      "8/8 [==============================] - 38s 5s/step - loss: 10.1392 - accuracy: 0.8645 - val_loss: 10.3151 - val_accuracy: 0.8030\n",
      "Epoch 6/15\n",
      "8/8 [==============================] - 38s 5s/step - loss: 3.7008 - accuracy: 0.8964 - val_loss: 9.1670 - val_accuracy: 0.8182\n",
      "Epoch 7/15\n",
      "8/8 [==============================] - 38s 5s/step - loss: 2.9899 - accuracy: 0.9203 - val_loss: 3.3069 - val_accuracy: 0.8485\n",
      "Epoch 8/15\n",
      "8/8 [==============================] - 38s 5s/step - loss: 1.4113 - accuracy: 0.9363 - val_loss: 3.1191 - val_accuracy: 0.8485\n",
      "Epoch 9/15\n",
      "8/8 [==============================] - 39s 5s/step - loss: 0.7323 - accuracy: 0.9522 - val_loss: 1.8594 - val_accuracy: 0.8636\n",
      "Epoch 10/15\n",
      "8/8 [==============================] - 38s 5s/step - loss: 0.4746 - accuracy: 0.9641 - val_loss: 3.8104 - val_accuracy: 0.7879\n",
      "Epoch 11/15\n",
      "8/8 [==============================] - 38s 5s/step - loss: 0.5239 - accuracy: 0.9442 - val_loss: 1.5075 - val_accuracy: 0.9242\n",
      "Epoch 12/15\n",
      "8/8 [==============================] - 38s 5s/step - loss: 0.3120 - accuracy: 0.9681 - val_loss: 2.6679 - val_accuracy: 0.7273\n",
      "Epoch 13/15\n",
      "8/8 [==============================] - 38s 5s/step - loss: 0.9990 - accuracy: 0.9323 - val_loss: 4.1656 - val_accuracy: 0.7879\n",
      "Epoch 14/15\n",
      "8/8 [==============================] - 38s 5s/step - loss: 0.3136 - accuracy: 0.9562 - val_loss: 1.5521 - val_accuracy: 0.8788\n",
      "Epoch 15/15\n",
      "8/8 [==============================] - 39s 5s/step - loss: 0.3055 - accuracy: 0.9641 - val_loss: 1.6577 - val_accuracy: 0.8788\n"
     ]
    }
   ],
   "source": [
    "history = model.fit(\n",
    "    train_set,\n",
    "    epochs=15,\n",
    "    validation_data=test_set\n",
    ")"
   ]
  },
  {
   "cell_type": "code",
   "execution_count": 16,
   "metadata": {},
   "outputs": [
    {
     "data": {
      "text/plain": [
       "<Axes: title={'center': 'Own CNN loss curve'}, xlabel='Epochs'>"
      ]
     },
     "execution_count": 16,
     "metadata": {},
     "output_type": "execute_result"
    },
    {
     "data": {
      "image/png": "[encoded data removed]",
      "text/plain": [
       "<Figure size 640x480 with 1 Axes>"
      ]
     },
     "metadata": {},
     "output_type": "display_data"
    }
   ],
   "source": [
    "df = pd.DataFrame(history.history)\n",
    "df[['loss','val_loss']][3:].plot(title='Own CNN loss curve', xlabel='Epochs')"
   ]
  }
 ],
 "metadata": {
  "kernelspec": {
   "display_name": "env",
   "language": "python",
   "name": "python3"
  },
  "language_info": {
   "codemirror_mode": {
    "name": "ipython",
    "version": 3
   },
   "file_extension": ".py",
   "mimetype": "text/x-python",
   "name": "python",
   "nbconvert_exporter": "python",
   "pygments_lexer": "ipython3",
   "version": "3.9.5"
  },
  "orig_nbformat": 4
 },
 "nbformat": 4,
 "nbformat_minor": 2
}
